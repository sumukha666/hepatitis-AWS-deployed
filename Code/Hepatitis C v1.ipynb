{
 "cells": [
  {
   "cell_type": "code",
   "execution_count": 1,
   "metadata": {},
   "outputs": [],
   "source": [
    "# %matplotlib notebook\n",
    "\n",
    "import pandas as pd\n",
    "import numpy as np\n",
    "import matplotlib.pyplot as plt\n",
    "import seaborn as sns"
   ]
  },
  {
   "cell_type": "code",
   "execution_count": 2,
   "metadata": {},
   "outputs": [],
   "source": [
    "hepatitis_data = pd.read_csv(\"../HCV-Egy-Data.csv\")"
   ]
  },
  {
   "cell_type": "code",
   "execution_count": 3,
   "metadata": {},
   "outputs": [],
   "source": [
    "from sklearn.ensemble import RandomForestClassifier\n",
    "from sklearn.model_selection import train_test_split, GridSearchCV\n",
    "\n",
    "from sklearn.metrics import roc_curve, auc, accuracy_score\n",
    "from sklearn.metrics import precision_recall_curve, confusion_matrix\n",
    "\n",
    "from sklearn.preprocessing import Imputer"
   ]
  },
  {
   "cell_type": "code",
   "execution_count": 4,
   "metadata": {},
   "outputs": [],
   "source": [
    "x = hepatitis_data.iloc[:, hepatitis_data.columns != 'Baselinehistological staging']\n",
    "y = hepatitis_data.iloc[:, hepatitis_data.columns == 'Baselinehistological staging']"
   ]
  },
  {
   "cell_type": "code",
   "execution_count": 6,
   "metadata": {},
   "outputs": [],
   "source": [
    "from sklearn.feature_selection import RFE\n",
    "from sklearn.svm import SVR"
   ]
  },
  {
   "cell_type": "code",
   "execution_count": 7,
   "metadata": {},
   "outputs": [
    {
     "name": "stderr",
     "output_type": "stream",
     "text": [
      "/opt/anaconda2/lib/python2.7/site-packages/sklearn/utils/validation.py:761: DataConversionWarning: A column-vector y was passed when a 1d array was expected. Please change the shape of y to (n_samples, ), for example using ravel().\n",
      "  y = column_or_1d(y, warn=True)\n"
     ]
    },
    {
     "data": {
      "text/plain": [
       "array([ True,  True,  True, False,  True,  True,  True,  True,  True,\n",
       "        True, False, False,  True, False,  True,  True,  True,  True,\n",
       "       False, False,  True,  True, False, False, False, False, False,\n",
       "        True])"
      ]
     },
     "execution_count": 7,
     "metadata": {},
     "output_type": "execute_result"
    }
   ],
   "source": [
    "estimator = SVR(kernel=\"linear\")\n",
    "selector = RFE(estimator, 17, step=1)\n",
    "selector = selector.fit(x, y)\n",
    "selector.support_"
   ]
  },
  {
   "cell_type": "code",
   "execution_count": 8,
   "metadata": {},
   "outputs": [
    {
     "data": {
      "text/plain": [
       "array([ 1,  1,  1, 11,  1,  1,  1,  1,  1,  1,  4, 10,  1,  5,  1,  1,  1,\n",
       "        1,  2,  3,  1,  1,  9,  6,  7,  8, 12,  1])"
      ]
     },
     "execution_count": 8,
     "metadata": {},
     "output_type": "execute_result"
    }
   ],
   "source": [
    "selector.ranking_"
   ]
  },
  {
   "cell_type": "code",
   "execution_count": null,
   "metadata": {},
   "outputs": [],
   "source": []
  },
  {
   "cell_type": "code",
   "execution_count": 11,
   "metadata": {},
   "outputs": [],
   "source": [
    "features = list(hepatitis_data.columns)\n",
    "exclude_list = ['Baselinehistological staging','Fever','RBC','WBC','Plat','ALT 24','ALT 36','RNA Base','RNA 4','RNA 12','RNA EOT','RNA EF']\n",
    "#exclude_list = ['Baselinehistological staging']\n",
    "for i in exclude_list:\n",
    "    features.remove(i)\n",
    "X = hepatitis_data[features]\n",
    "y = hepatitis_data['Baselinehistological staging']\n",
    "\n",
    "X_train, X_test, y_train, y_test = train_test_split(X, y, test_size=0.2, random_state=1)"
   ]
  },
  {
   "cell_type": "code",
   "execution_count": 12,
   "metadata": {},
   "outputs": [
    {
     "data": {
      "text/plain": [
       "(1108, 17)"
      ]
     },
     "execution_count": 12,
     "metadata": {},
     "output_type": "execute_result"
    }
   ],
   "source": [
    "X_train.shape"
   ]
  },
  {
   "cell_type": "code",
   "execution_count": 13,
   "metadata": {},
   "outputs": [
    {
     "data": {
      "text/plain": [
       "{1, 2, 3, 4}"
      ]
     },
     "execution_count": 13,
     "metadata": {},
     "output_type": "execute_result"
    }
   ],
   "source": [
    "set(hepatitis_data['Baselinehistological staging'])"
   ]
  },
  {
   "cell_type": "code",
   "execution_count": 17,
   "metadata": {},
   "outputs": [],
   "source": [
    "from sklearn.svm import LinearSVC\n",
    "from sklearn import metrics"
   ]
  },
  {
   "cell_type": "code",
   "execution_count": 18,
   "metadata": {},
   "outputs": [
    {
     "name": "stdout",
     "output_type": "stream",
     "text": [
      "('Accuracy : ', 0.296028880866426)\n"
     ]
    }
   ],
   "source": [
    "# SVM\n",
    "from sklearn import svm\n",
    "\n",
    "svc = LinearSVC()\n",
    "# svc = svm.SVC(kernel='rbf')\n",
    "svc.fit(X_train, y_train)\n",
    "\n",
    "y_pred = svc.predict(X_test)\n",
    "\n",
    "print (\"Accuracy : \", metrics.accuracy_score(y_test, y_pred))"
   ]
  },
  {
   "cell_type": "code",
   "execution_count": 19,
   "metadata": {},
   "outputs": [
    {
     "data": {
      "text/html": [
       "<div>\n",
       "<style scoped>\n",
       "    .dataframe tbody tr th:only-of-type {\n",
       "        vertical-align: middle;\n",
       "    }\n",
       "\n",
       "    .dataframe tbody tr th {\n",
       "        vertical-align: top;\n",
       "    }\n",
       "\n",
       "    .dataframe thead th {\n",
       "        text-align: right;\n",
       "    }\n",
       "</style>\n",
       "<table border=\"1\" class=\"dataframe\">\n",
       "  <thead>\n",
       "    <tr style=\"text-align: right;\">\n",
       "      <th></th>\n",
       "      <th>Age</th>\n",
       "      <th>Gender</th>\n",
       "      <th>BMI</th>\n",
       "      <th>Fever</th>\n",
       "      <th>Nausea/Vomting</th>\n",
       "      <th>Headache</th>\n",
       "      <th>Diarrhea</th>\n",
       "      <th>Fatigue &amp; generalized bone ache</th>\n",
       "      <th>Jaundice</th>\n",
       "      <th>Epigastric pain</th>\n",
       "      <th>...</th>\n",
       "      <th>ALT 36</th>\n",
       "      <th>ALT 48</th>\n",
       "      <th>ALT after 24 w</th>\n",
       "      <th>RNA Base</th>\n",
       "      <th>RNA 4</th>\n",
       "      <th>RNA 12</th>\n",
       "      <th>RNA EOT</th>\n",
       "      <th>RNA EF</th>\n",
       "      <th>Baseline histological Grading</th>\n",
       "      <th>Baselinehistological staging</th>\n",
       "    </tr>\n",
       "  </thead>\n",
       "  <tbody>\n",
       "    <tr>\n",
       "      <th>0</th>\n",
       "      <td>56</td>\n",
       "      <td>1</td>\n",
       "      <td>35</td>\n",
       "      <td>2</td>\n",
       "      <td>1</td>\n",
       "      <td>1</td>\n",
       "      <td>1</td>\n",
       "      <td>2</td>\n",
       "      <td>2</td>\n",
       "      <td>2</td>\n",
       "      <td>...</td>\n",
       "      <td>5</td>\n",
       "      <td>5</td>\n",
       "      <td>5</td>\n",
       "      <td>655330</td>\n",
       "      <td>634536</td>\n",
       "      <td>288194</td>\n",
       "      <td>5</td>\n",
       "      <td>5</td>\n",
       "      <td>13</td>\n",
       "      <td>2</td>\n",
       "    </tr>\n",
       "    <tr>\n",
       "      <th>1</th>\n",
       "      <td>46</td>\n",
       "      <td>1</td>\n",
       "      <td>29</td>\n",
       "      <td>1</td>\n",
       "      <td>2</td>\n",
       "      <td>2</td>\n",
       "      <td>1</td>\n",
       "      <td>2</td>\n",
       "      <td>2</td>\n",
       "      <td>1</td>\n",
       "      <td>...</td>\n",
       "      <td>57</td>\n",
       "      <td>123</td>\n",
       "      <td>44</td>\n",
       "      <td>40620</td>\n",
       "      <td>538635</td>\n",
       "      <td>637056</td>\n",
       "      <td>336804</td>\n",
       "      <td>31085</td>\n",
       "      <td>4</td>\n",
       "      <td>2</td>\n",
       "    </tr>\n",
       "    <tr>\n",
       "      <th>2</th>\n",
       "      <td>57</td>\n",
       "      <td>1</td>\n",
       "      <td>33</td>\n",
       "      <td>2</td>\n",
       "      <td>2</td>\n",
       "      <td>2</td>\n",
       "      <td>2</td>\n",
       "      <td>1</td>\n",
       "      <td>1</td>\n",
       "      <td>1</td>\n",
       "      <td>...</td>\n",
       "      <td>5</td>\n",
       "      <td>5</td>\n",
       "      <td>5</td>\n",
       "      <td>571148</td>\n",
       "      <td>661346</td>\n",
       "      <td>5</td>\n",
       "      <td>735945</td>\n",
       "      <td>558829</td>\n",
       "      <td>4</td>\n",
       "      <td>4</td>\n",
       "    </tr>\n",
       "    <tr>\n",
       "      <th>3</th>\n",
       "      <td>49</td>\n",
       "      <td>2</td>\n",
       "      <td>33</td>\n",
       "      <td>1</td>\n",
       "      <td>2</td>\n",
       "      <td>1</td>\n",
       "      <td>2</td>\n",
       "      <td>1</td>\n",
       "      <td>2</td>\n",
       "      <td>1</td>\n",
       "      <td>...</td>\n",
       "      <td>48</td>\n",
       "      <td>77</td>\n",
       "      <td>33</td>\n",
       "      <td>1041941</td>\n",
       "      <td>449939</td>\n",
       "      <td>585688</td>\n",
       "      <td>744463</td>\n",
       "      <td>582301</td>\n",
       "      <td>10</td>\n",
       "      <td>3</td>\n",
       "    </tr>\n",
       "    <tr>\n",
       "      <th>4</th>\n",
       "      <td>59</td>\n",
       "      <td>1</td>\n",
       "      <td>32</td>\n",
       "      <td>1</td>\n",
       "      <td>1</td>\n",
       "      <td>2</td>\n",
       "      <td>1</td>\n",
       "      <td>2</td>\n",
       "      <td>2</td>\n",
       "      <td>2</td>\n",
       "      <td>...</td>\n",
       "      <td>94</td>\n",
       "      <td>90</td>\n",
       "      <td>30</td>\n",
       "      <td>660410</td>\n",
       "      <td>738756</td>\n",
       "      <td>3731527</td>\n",
       "      <td>338946</td>\n",
       "      <td>242861</td>\n",
       "      <td>11</td>\n",
       "      <td>1</td>\n",
       "    </tr>\n",
       "  </tbody>\n",
       "</table>\n",
       "<p>5 rows × 29 columns</p>\n",
       "</div>"
      ],
      "text/plain": [
       "   Age   Gender  BMI  Fever  Nausea/Vomting  Headache   Diarrhea   \\\n",
       "0    56       1   35      2               1          1          1   \n",
       "1    46       1   29      1               2          2          1   \n",
       "2    57       1   33      2               2          2          2   \n",
       "3    49       2   33      1               2          1          2   \n",
       "4    59       1   32      1               1          2          1   \n",
       "\n",
       "   Fatigue & generalized bone ache   Jaundice   Epigastric pain   ...  ALT 36  \\\n",
       "0                                 2          2                 2  ...       5   \n",
       "1                                 2          2                 1  ...      57   \n",
       "2                                 1          1                 1  ...       5   \n",
       "3                                 1          2                 1  ...      48   \n",
       "4                                 2          2                 2  ...      94   \n",
       "\n",
       "   ALT 48  ALT after 24 w  RNA Base   RNA 4   RNA 12  RNA EOT  RNA EF  \\\n",
       "0       5               5    655330  634536   288194        5       5   \n",
       "1     123              44     40620  538635   637056   336804   31085   \n",
       "2       5               5    571148  661346        5   735945  558829   \n",
       "3      77              33   1041941  449939   585688   744463  582301   \n",
       "4      90              30    660410  738756  3731527   338946  242861   \n",
       "\n",
       "   Baseline histological Grading  Baselinehistological staging  \n",
       "0                             13                             2  \n",
       "1                              4                             2  \n",
       "2                              4                             4  \n",
       "3                             10                             3  \n",
       "4                             11                             1  \n",
       "\n",
       "[5 rows x 29 columns]"
      ]
     },
     "execution_count": 19,
     "metadata": {},
     "output_type": "execute_result"
    }
   ],
   "source": [
    "df = pd.read_csv(\"../HCV-Egy-Data.csv\")\n",
    "df.head()"
   ]
  },
  {
   "cell_type": "code",
   "execution_count": 24,
   "metadata": {},
   "outputs": [],
   "source": [
    "y = df['Baselinehistological staging']\n",
    "oneC=0\n",
    "twoC=0\n",
    "threeC=0\n",
    "fourC=0\n",
    "for i in y:\n",
    "    if(i==1):\n",
    "        oneC+=1\n",
    "    elif(i==2):\n",
    "        twoC+=1\n",
    "    elif(i==3):\n",
    "        threeC+=1\n",
    "    else:\n",
    "        fourC+=1\n",
    "    "
   ]
  },
  {
   "cell_type": "code",
   "execution_count": 31,
   "metadata": {},
   "outputs": [
    {
     "name": "stdout",
     "output_type": "stream",
     "text": [
      "result one count = 336\n",
      "result two count = 332\n",
      "result three count = 355\n",
      "result four count = 362\n"
     ]
    }
   ],
   "source": [
    "print('result one count = '+ str(oneC))\n",
    "print('result two count = '+ str(twoC))\n",
    "print('result three count = '+ str(threeC))\n",
    "print('result four count = '+ str(fourC))"
   ]
  },
  {
   "cell_type": "code",
   "execution_count": 57,
   "metadata": {},
   "outputs": [],
   "source": [
    "features = list(df.columns)\n",
    "# exclude_list = ['Baselinehistological staging','WBC','RBC','HGB','Plat','AST 1','ALT 1','ALT4','ALT 12','ALT 24','ALT 36','ALT 48','ALT after 24 w','RNA Base','RNA 4','RNA 12','RNA EOT','RNA EF']\n",
    "exclude_list = ['Baselinehistological staging']\n",
    "for i in exclude_list:\n",
    "    features.remove(i)\n",
    "X = df[features]\n",
    "y = df['Baselinehistological staging']\n"
   ]
  },
  {
   "cell_type": "code",
   "execution_count": 58,
   "metadata": {},
   "outputs": [],
   "source": [
    "from sklearn.decomposition import TruncatedSVD\n",
    "svd = TruncatedSVD(n_components=15, n_iter=7, random_state=42)"
   ]
  },
  {
   "cell_type": "code",
   "execution_count": 62,
   "metadata": {},
   "outputs": [],
   "source": [
    "X=svd.fit_transform(X)"
   ]
  },
  {
   "cell_type": "code",
   "execution_count": 64,
   "metadata": {},
   "outputs": [
    {
     "name": "stdout",
     "output_type": "stream",
     "text": [
      "(1385, 15)\n"
     ]
    }
   ],
   "source": [
    "print X.shape"
   ]
  },
  {
   "cell_type": "code",
   "execution_count": 60,
   "metadata": {},
   "outputs": [
    {
     "name": "stdout",
     "output_type": "stream",
     "text": [
      "[1.99550217e-01 2.33554543e-01 2.16510027e-01 2.05930836e-01\n",
      " 7.68735533e-02 6.48922903e-02 2.67622793e-03 1.22962521e-05\n",
      " 1.54453968e-09 1.29189667e-09 1.17868695e-09 1.15496537e-09\n",
      " 1.12383515e-09 1.07806490e-09 1.02049010e-09]\n"
     ]
    }
   ],
   "source": [
    "print(svd.explained_variance_ratio_)"
   ]
  },
  {
   "cell_type": "code",
   "execution_count": 61,
   "metadata": {},
   "outputs": [
    {
     "name": "stdout",
     "output_type": "stream",
     "text": [
      "[1.69163368e+08 1.39391632e+07 1.34208608e+07 1.30888581e+07\n",
      " 7.99708805e+06 7.34747140e+06 1.49242409e+06 1.01152161e+05\n",
      " 1.13438779e+03 1.03670416e+03 9.90240995e+02 9.80227228e+02\n",
      " 9.66930224e+02 9.47036353e+02 9.21395668e+02]\n"
     ]
    }
   ],
   "source": [
    "print(svd.singular_values_)"
   ]
  },
  {
   "cell_type": "code",
   "execution_count": 63,
   "metadata": {},
   "outputs": [],
   "source": [
    "X_train, X_test, y_train, y_test = train_test_split(X, y, test_size=0.2, random_state=1)"
   ]
  },
  {
   "cell_type": "code",
   "execution_count": 65,
   "metadata": {},
   "outputs": [
    {
     "name": "stdout",
     "output_type": "stream",
     "text": [
      "('Accuracy : ', 0.20216606498194944)\n"
     ]
    }
   ],
   "source": [
    "# SVM\n",
    "from sklearn import svm\n",
    "\n",
    "svc = LinearSVC()\n",
    "# svc = svm.SVC(kernel='rbf')\n",
    "svc.fit(X_train, y_train)\n",
    "\n",
    "y_pred = svc.predict(X_test)\n",
    "\n",
    "print (\"Accuracy : \", metrics.accuracy_score(y_test, y_pred))"
   ]
  },
  {
   "cell_type": "code",
   "execution_count": 123,
   "metadata": {},
   "outputs": [],
   "source": [
    "from sklearn.decomposition import PCA\n",
    "features = list(df.columns)\n",
    "# exclude_list = ['Baselinehistological staging','WBC','RBC','HGB','Plat','AST 1','ALT 1','ALT4','ALT 12','ALT 24','ALT 36','ALT 48','ALT after 24 w','RNA Base','RNA 4','RNA 12','RNA EOT','RNA EF']\n",
    "exclude_list = ['Baselinehistological staging']\n",
    "for i in exclude_list:\n",
    "    features.remove(i)\n",
    "X = df[features]\n",
    "y = df['Baselinehistological staging']\n"
   ]
  },
  {
   "cell_type": "code",
   "execution_count": 124,
   "metadata": {},
   "outputs": [],
   "source": [
    "pca = PCA(n_components=10)\n",
    "X=pca.fit_transform(X)"
   ]
  },
  {
   "cell_type": "code",
   "execution_count": 125,
   "metadata": {},
   "outputs": [
    {
     "name": "stdout",
     "output_type": "stream",
     "text": [
      "(1385, 10)\n"
     ]
    }
   ],
   "source": [
    "print X.shape"
   ]
  },
  {
   "cell_type": "code",
   "execution_count": 126,
   "metadata": {},
   "outputs": [],
   "source": [
    "X_train, X_test, y_train, y_test = train_test_split(X, y, test_size=0.2, random_state=1)"
   ]
  },
  {
   "cell_type": "code",
   "execution_count": 127,
   "metadata": {},
   "outputs": [
    {
     "name": "stdout",
     "output_type": "stream",
     "text": [
      "('Accuracy : ', 0.2888086642599278)\n"
     ]
    }
   ],
   "source": [
    "# SVM\n",
    "from sklearn import svm\n",
    "\n",
    "svc = LinearSVC()\n",
    "# svc = svm.SVC(kernel='rbf')\n",
    "svc.fit(X_train, y_train)\n",
    "\n",
    "y_pred = svc.predict(X_test)\n",
    "\n",
    "print (\"Accuracy : \", metrics.accuracy_score(y_test, y_pred))"
   ]
  },
  {
   "cell_type": "code",
   "execution_count": 128,
   "metadata": {},
   "outputs": [
    {
     "data": {
      "text/plain": [
       "RandomForestClassifier(bootstrap=True, class_weight=None, criterion='gini',\n",
       "            max_depth=None, max_features='auto', max_leaf_nodes=None,\n",
       "            min_impurity_decrease=0.0, min_impurity_split=None,\n",
       "            min_samples_leaf=1, min_samples_split=2,\n",
       "            min_weight_fraction_leaf=0.0, n_estimators=100, n_jobs=None,\n",
       "            oob_score=False, random_state=42, verbose=0, warm_start=False)"
      ]
     },
     "execution_count": 128,
     "metadata": {},
     "output_type": "execute_result"
    }
   ],
   "source": [
    "fit_random_forest = RandomForestClassifier(random_state = 42, n_estimators=100)\n",
    "\n",
    "fit_random_forest.fit(X_train, y_train)"
   ]
  },
  {
   "cell_type": "code",
   "execution_count": 129,
   "metadata": {},
   "outputs": [],
   "source": [
    "y_predicted = fit_random_forest.predict(X_test)"
   ]
  },
  {
   "cell_type": "code",
   "execution_count": 130,
   "metadata": {},
   "outputs": [
    {
     "name": "stdout",
     "output_type": "stream",
     "text": [
      "(20.58, '%')\n"
     ]
    }
   ],
   "source": [
    "accuracy = accuracy_score(y_test, y_predicted)*100\n",
    "print(round(accuracy, 2), '%')"
   ]
  },
  {
   "cell_type": "code",
   "execution_count": 131,
   "metadata": {},
   "outputs": [
    {
     "name": "stdout",
     "output_type": "stream",
     "text": [
      "('Accuracy : ', 0.23826714801444043)\n"
     ]
    }
   ],
   "source": [
    "# logistic regression\n",
    "from sklearn.linear_model import LogisticRegression \n",
    "\n",
    "classifier = LogisticRegression(random_state = 0) \n",
    "\n",
    "classifier.fit(X_train, y_train) \n",
    "\n",
    "y_pred = classifier.predict(X_test) \n",
    "\n",
    "print (\"Accuracy : \", metrics.accuracy_score(y_test, y_pred))"
   ]
  },
  {
   "cell_type": "code",
   "execution_count": null,
   "metadata": {},
   "outputs": [],
   "source": []
  }
 ],
 "metadata": {
  "kernelspec": {
   "display_name": "Python 2",
   "language": "python",
   "name": "python2"
  },
  "language_info": {
   "codemirror_mode": {
    "name": "ipython",
    "version": 2
   },
   "file_extension": ".py",
   "mimetype": "text/x-python",
   "name": "python",
   "nbconvert_exporter": "python",
   "pygments_lexer": "ipython2",
   "version": "2.7.17"
  }
 },
 "nbformat": 4,
 "nbformat_minor": 2
}
